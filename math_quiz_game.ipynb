{
 "cells": [
  {
   "cell_type": "code",
   "execution_count": 2,
   "id": "1f483731-5845-4217-91fc-7ebb057a3d85",
   "metadata": {},
   "outputs": [
    {
     "name": "stdout",
     "output_type": "stream",
     "text": [
      "Welcome to the Math Quiz Game!\n"
     ]
    },
    {
     "name": "stdin",
     "output_type": "stream",
     "text": [
      "Q1: 8 + 8 =  \n"
     ]
    },
    {
     "name": "stdout",
     "output_type": "stream",
     "text": [
      "Please enter a valid number.\n"
     ]
    },
    {
     "name": "stdin",
     "output_type": "stream",
     "text": [
      "Q1: 8 + 8 =  16\n"
     ]
    },
    {
     "name": "stdout",
     "output_type": "stream",
     "text": [
      "Correct!\n",
      "\n"
     ]
    },
    {
     "name": "stdin",
     "output_type": "stream",
     "text": [
      "Q2: 2 + 2 =  4\n"
     ]
    },
    {
     "name": "stdout",
     "output_type": "stream",
     "text": [
      "Correct!\n",
      "\n"
     ]
    },
    {
     "name": "stdin",
     "output_type": "stream",
     "text": [
      "Q3: 1 + 4 =  5\n"
     ]
    },
    {
     "name": "stdout",
     "output_type": "stream",
     "text": [
      "Correct!\n",
      "\n"
     ]
    },
    {
     "name": "stdin",
     "output_type": "stream",
     "text": [
      "Q4: 3 * 10 =  30\n"
     ]
    },
    {
     "name": "stdout",
     "output_type": "stream",
     "text": [
      "Correct!\n",
      "\n"
     ]
    },
    {
     "name": "stdin",
     "output_type": "stream",
     "text": [
      "Q5: 1 - 5 =  -4\n"
     ]
    },
    {
     "name": "stdout",
     "output_type": "stream",
     "text": [
      "Correct!\n",
      "\n",
      "Quiz Over! Your score is 5 / 5\n"
     ]
    }
   ],
   "source": [
    "import random\n",
    "\n",
    "print(\"Welcome to the Math Quiz Game!\")\n",
    "\n",
    "score = 0\n",
    "\n",
    "for i in range(5):  \n",
    "    a = random.randint(1, 10)\n",
    "    b = random.randint(1, 10)\n",
    "    op = random.choice([\"+\", \"-\", \"*\"])\n",
    "\n",
    "    if op == \"+\":\n",
    "        correct = a + b\n",
    "    elif op == \"-\":\n",
    "        correct = a - b\n",
    "    else:  # \"*\" \n",
    "        correct = a * b\n",
    "\n",
    "    while True:  \n",
    "        ans = input(f\"Q{i+1}: {a} {op} {b} = \")\n",
    "        if ans.isdigit() or (ans.startswith(\"-\") and ans[1:].isdigit()):\n",
    "            ans = int(ans)\n",
    "            break\n",
    "        else:\n",
    "            print(\"Please enter a valid number.\")\n",
    "\n",
    "    if ans == correct:\n",
    "        print(\"Correct!\\n\")\n",
    "        score += 1\n",
    "    else:\n",
    "        print(f\"Wrong! The right answer is {correct}\\n\")\n",
    "\n",
    "print(\"Quiz Over! Your score is\", score, \"/ 5\")\n"
   ]
  },
  {
   "cell_type": "code",
   "execution_count": null,
   "id": "fdf4ec40-ff61-4612-a906-9e6258ff668e",
   "metadata": {},
   "outputs": [],
   "source": []
  }
 ],
 "metadata": {
  "kernelspec": {
   "display_name": "Python 3 (ipykernel)",
   "language": "python",
   "name": "python3"
  },
  "language_info": {
   "codemirror_mode": {
    "name": "ipython",
    "version": 3
   },
   "file_extension": ".py",
   "mimetype": "text/x-python",
   "name": "python",
   "nbconvert_exporter": "python",
   "pygments_lexer": "ipython3",
   "version": "3.13.6"
  }
 },
 "nbformat": 4,
 "nbformat_minor": 5
}

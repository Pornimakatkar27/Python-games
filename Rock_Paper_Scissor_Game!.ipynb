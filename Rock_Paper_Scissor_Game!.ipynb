{
 "cells": [
  {
   "cell_type": "code",
   "execution_count": null,
   "id": "5a75b4cc-91d3-43df-abb9-9b6a0fcfe3db",
   "metadata": {},
   "outputs": [],
   "source": [
    "#Rock , Paper , Scissor Game!\n",
    "\n",
    "print(\"Welcome to Rock , Paper , Scissor Game!\")\n",
    "print(\"Choices: rock,paper,scissor\")\n",
    "\n",
    "while True:\n",
    "    player1=str(input(\"Player 1,enter your choice: \")).lower()\n",
    "    player2=str(input(\"Player 2,enter your choice: \")).lower()\n",
    "\n",
    "    if player1 not in [\"rock\",\"paper\",\"scissor\"] or player2 not in [\"rock\",\"paper\",\"scissor\"]:\n",
    "        print(\"Invalid choice!,Please type rock,paper, or scissor.\")\n",
    "        continue\n",
    "\n",
    "    if player1 == player2:\n",
    "        print(\"It's a tie!\")\n",
    "    elif (player1 == \"rock\" and player2 == \"scissor\") or \\\n",
    "         (player1 == \"scissor\" and player2 == \"paper\") or \\\n",
    "         (player1 == \"paper\" and player2 == \"rock\"):\n",
    "            print(\"Player 1 wins!\")\n",
    "    else:\n",
    "            print(\"Player 2 wins!\")\n",
    "\n",
    "    again =str(input(\"Do you want to play again? (yes/no): \")).lower()\n",
    "    if again != \"yes\":\n",
    "        print(\"Thanks for playing!\")\n",
    "        break\n",
    "    "
   ]
  }
 ],
 "metadata": {
  "kernelspec": {
   "display_name": "Python 3 (ipykernel)",
   "language": "python",
   "name": "python3"
  },
  "language_info": {
   "codemirror_mode": {
    "name": "ipython",
    "version": 3
   },
   "file_extension": ".py",
   "mimetype": "text/x-python",
   "name": "python",
   "nbconvert_exporter": "python",
   "pygments_lexer": "ipython3",
   "version": "3.13.6"
  }
 },
 "nbformat": 4,
 "nbformat_minor": 5
}

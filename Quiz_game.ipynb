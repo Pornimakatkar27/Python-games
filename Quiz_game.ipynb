{
 "cells": [
  {
   "cell_type": "code",
   "execution_count": null,
   "id": "3a9489b9-6afe-4368-b992-9c294c345e9a",
   "metadata": {},
   "outputs": [],
   "source": [
    "#Quiz game\n",
    "\n",
    "print(\"Welcome to the Quiz Game!\")\n",
    "\n",
    "score = 0\n",
    "\n",
    "answer = input(\"Q1. What is the capital of India? \").strip().lower()\n",
    "if answer == \"delhi\":\n",
    "    print(\"Correct!\")\n",
    "    score += 1\n",
    "else:\n",
    "    print(\"Wrong! The correct answer is Delhi.\")\n",
    "\n",
    "\n",
    "answer = input(\"Q2. Who is known as the Father of Computers? \").strip().lower()\n",
    "if answer == \"charles babbage\":\n",
    "    print(\"Correct!\")\n",
    "    score += 1\n",
    "else:\n",
    "    print(\"Wrong! The correct answer is Charles Babbage.\")\n",
    "\n",
    "answer = input(\"Q3. Which planet is called the Red Planet? \").strip().lower()\n",
    "if answer == \"mars\":\n",
    "    print(\"Correct!\")\n",
    "    score += 1\n",
    "else:\n",
    "    print(\"Wrong! The correct answer is Mars.\")\n",
    "\n",
    "answer = input(\"Q4. What is 5 + 7? \").strip()\n",
    "if answer == \"12\":\n",
    "    print(\"Correct!\")\n",
    "    score += 1\n",
    "else:\n",
    "    print(\"Wrong! The correct answer is 12.\")\n",
    "\n",
    "print(\"\\nQuiz Over!\")\n",
    "print(\"You got\", score, \"out of 4 correct.\")"
   ]
  }
 ],
 "metadata": {
  "kernelspec": {
   "display_name": "Python 3 (ipykernel)",
   "language": "python",
   "name": "python3"
  },
  "language_info": {
   "codemirror_mode": {
    "name": "ipython",
    "version": 3
   },
   "file_extension": ".py",
   "mimetype": "text/x-python",
   "name": "python",
   "nbconvert_exporter": "python",
   "pygments_lexer": "ipython3",
   "version": "3.13.6"
  }
 },
 "nbformat": 4,
 "nbformat_minor": 5
}

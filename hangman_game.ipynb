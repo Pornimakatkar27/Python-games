{
 "cells": [
  {
   "cell_type": "code",
   "execution_count": null,
   "id": "8d2666c7-cd40-4f6c-a9d6-0acd5dbd5b94",
   "metadata": {},
   "outputs": [
    {
     "name": "stdout",
     "output_type": "stream",
     "text": [
      "Welcome to Hangman Game!\n",
      "\n",
      "Word: _ _ _ _\n",
      "Attempts left: 6\n",
      "Used letters: \n"
     ]
    },
    {
     "name": "stdin",
     "output_type": "stream",
     "text": [
      "Guess a letter:  g\n"
     ]
    },
    {
     "name": "stdout",
     "output_type": "stream",
     "text": [
      "Good guess!\n",
      "\n",
      "Word: g _ _ _\n",
      "Attempts left: 6\n",
      "Used letters: g\n"
     ]
    },
    {
     "name": "stdin",
     "output_type": "stream",
     "text": [
      "Guess a letter:  m\n"
     ]
    },
    {
     "name": "stdout",
     "output_type": "stream",
     "text": [
      "Good guess!\n",
      "\n",
      "Word: g _ m _\n",
      "Attempts left: 6\n",
      "Used letters: g m\n"
     ]
    },
    {
     "name": "stdin",
     "output_type": "stream",
     "text": [
      "Guess a letter:  a\n"
     ]
    },
    {
     "name": "stdout",
     "output_type": "stream",
     "text": [
      "Good guess!\n",
      "\n",
      "Word: g a m _\n",
      "Attempts left: 6\n",
      "Used letters: g m a\n"
     ]
    },
    {
     "name": "stdin",
     "output_type": "stream",
     "text": [
      "Guess a letter:  e\n"
     ]
    },
    {
     "name": "stdout",
     "output_type": "stream",
     "text": [
      "Good guess!\n",
      "\n",
      "Congratulations! You guessed the word: game\n"
     ]
    }
   ],
   "source": [
    "import random\n",
    "\n",
    "def play_hangman():\n",
    "    print(\"Welcome to Hangman Game!\")\n",
    "\n",
    "    words = [\"python\", \"computer\", \"programming\", \"science\", \"hangman\", \"game\"]\n",
    "\n",
    "    word = random.choice(words)\n",
    "    guessed = [\"_\"] * len(word)\n",
    "    attempts = 6\n",
    "    used_letters = []\n",
    "\n",
    "    while attempts > 0 and \"_\" in guessed:\n",
    "        print(\"\\nWord:\", \" \".join(guessed))\n",
    "        print(\"Attempts left:\", attempts)\n",
    "        print(\"Used letters:\", \" \".join(used_letters))  \n",
    "\n",
    "        guess = input(\"Guess a letter: \").lower().strip()\n",
    "\n",
    "        if len(guess) != 1 or not guess.isalpha():\n",
    "            print(\"Please enter a single letter.\")\n",
    "            continue\n",
    "        if guess in used_letters:\n",
    "            print(\"You already tried that letter.\")\n",
    "            continue\n",
    "\n",
    "        used_letters.append(guess)\n",
    "\n",
    "        if guess in word:\n",
    "            print(\"Good guess!\")\n",
    "            for i in range(len(word)):\n",
    "                if word[i] == guess:\n",
    "                    guessed[i] = guess\n",
    "        else:\n",
    "            print(\"Wrong guess!\")\n",
    "            attempts -= 1\n",
    "\n",
    "    if \"_\" not in guessed:\n",
    "        print(\"\\nCongratulations! You guessed the word:\", word)\n",
    "    else:\n",
    "        print(\"\\nOut of attempts! The word was:\", word)\n",
    "\n",
    "while True:\n",
    "    play_hangman()\n",
    "    again = input(\"\\nDo you want to play again? (yes/no): \").lower().strip()\n",
    "    if again != \"yes\":\n",
    "        print(\"Thanks for playing! Goodbye \")\n",
    "        break\n"
   ]
  },
  {
   "cell_type": "code",
   "execution_count": null,
   "id": "54658938-e702-450d-89ce-1aa8f7c69c08",
   "metadata": {},
   "outputs": [],
   "source": []
  },
  {
   "cell_type": "code",
   "execution_count": null,
   "id": "c42070f2-d17f-4f08-92f0-81a042d4a697",
   "metadata": {},
   "outputs": [],
   "source": []
  }
 ],
 "metadata": {
  "kernelspec": {
   "display_name": "Python 3 (ipykernel)",
   "language": "python",
   "name": "python3"
  },
  "language_info": {
   "codemirror_mode": {
    "name": "ipython",
    "version": 3
   },
   "file_extension": ".py",
   "mimetype": "text/x-python",
   "name": "python",
   "nbconvert_exporter": "python",
   "pygments_lexer": "ipython3",
   "version": "3.13.6"
  }
 },
 "nbformat": 4,
 "nbformat_minor": 5
}

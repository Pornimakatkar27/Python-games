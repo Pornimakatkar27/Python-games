{
 "cells": [
  {
   "cell_type": "code",
   "execution_count": null,
   "id": "d81e7e5a-3fe8-48ed-af32-946164b08ba7",
   "metadata": {},
   "outputs": [
    {
     "name": "stdout",
     "output_type": "stream",
     "text": [
      "Welcome to Guess the Number Game!\n"
     ]
    }
   ],
   "source": [
    "import random\n",
    "\n",
    "print(\"Welcome to Guess the Number Game!\")\n",
    "num = random.randint(1, 100)\n",
    "attempts = 0\n",
    "\n",
    "while True:\n",
    "    guess = int(input(\"Enter a number between [1-100]: \"))\n",
    "    attempts += 1\n",
    "\n",
    "    if guess > 100 or guess < 1:\n",
    "        print(\"Invalid guess, please enter a valid number [1-100]\")\n",
    "        continue\n",
    "\n",
    "    if guess == num:\n",
    "        print(f\"You guessed it right in {attempts} attempts!\")\n",
    "        break\n",
    "    elif guess > num:\n",
    "        if guess - num >= 10:\n",
    "            print(\"You are far away! Guess lower.\")\n",
    "        else:\n",
    "            print(\"You are very close! Guess a bit lower.\")\n",
    "    elif guess < num:\n",
    "        if num - guess >= 10:\n",
    "            print(\"You are far away! Guess higher.\")\n",
    "        else:\n",
    "            print(\"You are very close! Guess a bit higher.\")\n"
   ]
  },
  {
   "cell_type": "code",
   "execution_count": null,
   "id": "b9b67267-ad64-4854-a39b-6971c21cd869",
   "metadata": {},
   "outputs": [],
   "source": []
  }
 ],
 "metadata": {
  "kernelspec": {
   "display_name": "Python 3 (ipykernel)",
   "language": "python",
   "name": "python3"
  },
  "language_info": {
   "codemirror_mode": {
    "name": "ipython",
    "version": 3
   },
   "file_extension": ".py",
   "mimetype": "text/x-python",
   "name": "python",
   "nbconvert_exporter": "python",
   "pygments_lexer": "ipython3",
   "version": "3.13.6"
  }
 },
 "nbformat": 4,
 "nbformat_minor": 5
}
